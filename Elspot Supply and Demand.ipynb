{
 "cells": [
  {
   "cell_type": "markdown",
   "metadata": {},
   "source": [
    "# Supply and Demand for Elspot"
   ]
  },
  {
   "cell_type": "markdown",
   "metadata": {},
   "source": [
    "NordPool has provided the following information on the Elspot System Price bid curves. The document below describes how to adjust the buy and sell volumes using accepted blocks buy/sell and net flows."
   ]
  },
  {
   "cell_type": "code",
   "execution_count": 1,
   "metadata": {
    "scrolled": true
   },
   "outputs": [
    {
     "data": {
      "text/html": [
       "\n",
       "        <iframe\n",
       "            width=\"900\"\n",
       "            height=\"300\"\n",
       "            src=\"https://www.nordpoolgroup.com/globalassets/information-in-market-cross-point-data-reports.pdf \"\n",
       "            frameborder=\"0\"\n",
       "            allowfullscreen\n",
       "        ></iframe>\n",
       "        "
      ],
      "text/plain": [
       "<IPython.lib.display.IFrame at 0x10ae39e50>"
      ]
     },
     "execution_count": 1,
     "metadata": {},
     "output_type": "execute_result"
    }
   ],
   "source": [
    "from IPython.display import IFrame\n",
    "fileURL = \"https://www.nordpoolgroup.com/globalassets/information-in-market-cross-point-data-reports.pdf \"\n",
    "IFrame(fileURL, width=900, height=300)"
   ]
  },
  {
   "cell_type": "markdown",
   "metadata": {},
   "source": [
    "## Cleaning data"
   ]
  },
  {
   "cell_type": "code",
   "execution_count": 2,
   "metadata": {},
   "outputs": [],
   "source": [
    "import numpy as np\n",
    "import pandas as pd"
   ]
  },
  {
   "cell_type": "code",
   "execution_count": 3,
   "metadata": {},
   "outputs": [],
   "source": [
    "def cleaningData(date, hour):\n",
    "    \n",
    "    ## Extracting columns corresponding to hour and date\n",
    "    hour = hour\n",
    "    date = str(date)\n",
    "    column1 = \"Bid curve chart data (Reference time).\" + str(hour)\n",
    "\n",
    "    if hour < 10:\n",
    "        hour = \"0\" + str(hour)\n",
    "    else:\n",
    "        hour = str(hour)\n",
    "    column2 = date + \" \" + hour + \":00:00 +\" \n",
    "\n",
    "    df2 = pd.DataFrame({'name': df[column1],\n",
    "                 'value' : df[column2]})\n",
    "    \n",
    "    # Extracting net flows\n",
    "    df2['net_flows'] = df2['value'].where(df2['name']==\"Bid curve chart data (Volume for net flows)\")\n",
    "    # Forward fill\n",
    "    df2['net_flows'] = df2['net_flows'].ffill(axis = 0)\n",
    "    \n",
    "    # Extracting volume for accepted blocks buy\n",
    "    df2['accepted_blocks_buy'] = df2['value'].where(df2['name']==\"Bid curve chart data (Volume for accepted blocks buy)\")\n",
    "    # Forward fill\n",
    "    df2['accepted_blocks_buy'] = df2['accepted_blocks_buy'].ffill(axis = 0)\n",
    "    \n",
    "    # Extracting volume for accepted blocks sell\n",
    "    df2['accepted_blocks_sell'] = df2['value'].where(df2['name']==\"Bid curve chart data (Volume for accepted blocks sell)\")\n",
    "    # Forward fill\n",
    "    df2['accepted_blocks_sell'] = df2['accepted_blocks_sell'].ffill(axis = 0)\n",
    "    \n",
    "    # Identify the rows that have buy or sell \"curve\"\n",
    "    df2['buy_sell'] = df2['name'].where(df2['name'].str.contains('curve'))\n",
    "    # Forward fill\n",
    "    df2['buy_sell'] = df2['buy_sell'].ffill(axis = 0)\n",
    "    \n",
    "    # Extract prices and volumes\n",
    "    df2['price'] = df2['value'][df2['name']=='Price value']\n",
    "    df2['volume'] = df2['value'][df2['name']=='Volume value']\n",
    "    \n",
    "    # Forward fill prices\n",
    "    df2['price'] = df2['price'].ffill(axis = 0)\n",
    "    # Backward fill volumes\n",
    "    df2['volume'] = df2['volume'].bfill(axis=0)\n",
    "    \n",
    "    # Dropping duplicates\n",
    "    df2.drop_duplicates(subset=['price','volume'], keep = 'first', inplace = True)\n",
    "    \n",
    "    # Dropping \"Buy curve\" & \"Sell curve\" rows\n",
    "    df2 = df2.drop(df2[(df2['name'] == \"Buy curve\") | (df2['name'] == \"Sell curve\")].index)\n",
    "    \n",
    "    # Adjusting Buy and Sell volumes\n",
    "    if df2['net_flows'].any() >= 0:  \n",
    "        df2['volume_adjusted'] = np.where(df2['buy_sell']==\"Buy curve\",df2['volume']+df2['accepted_blocks_buy'],df2['volume'])\n",
    "        df2['volume_adjusted'] = np.where(df2['buy_sell']==\"Sell curve\",df2['volume']+df2['accepted_blocks_sell']+df2['net_flows'],df2['volume_adjusted'])\n",
    "    if df2['net_flows'].any() < 0:\n",
    "        df2['volume_adjusted'] = np.where(df2['buy_sell']==\"Buy curve\",df2['volume']+df2['accepted_blocks_buy']+df2['net_flows'],df2['volume'])\n",
    "        df2['volume_adjusted'] = np.where(df2['buy_sell']==\"Sell curve\",df2['volume']+df2['accepted_blocks_sell'],df2['volume_adjusted'])\n",
    "    # Keeping relevant data \n",
    "    df2 = df2[['buy_sell','price','volume', 'volume_adjusted', 'accepted_blocks_buy', 'accepted_blocks_sell', 'net_flows']]\n",
    "    df2 = df2.dropna()\n",
    "    \n",
    "    # Basic stats\n",
    "    #print(df2.groupby('buy_sell').describe())\n",
    "\n",
    "    return df2, date, hour"
   ]
  },
  {
   "cell_type": "code",
   "execution_count": 19,
   "metadata": {},
   "outputs": [],
   "source": [
    "date = \"20-08-2020\"\n",
    "file = \"/Users/marcosdemetry/Dropbox/IFN/Programming/Python_projects/elspot_supply_demand/mcp_data_report_\" + str(date) + \"-00_00_00.xls\"\n",
    "df = pd.read_excel(file)"
   ]
  },
  {
   "cell_type": "code",
   "execution_count": 20,
   "metadata": {},
   "outputs": [
    {
     "data": {
      "text/html": [
       "<div>\n",
       "<style scoped>\n",
       "    .dataframe tbody tr th:only-of-type {\n",
       "        vertical-align: middle;\n",
       "    }\n",
       "\n",
       "    .dataframe tbody tr th {\n",
       "        vertical-align: top;\n",
       "    }\n",
       "\n",
       "    .dataframe thead th {\n",
       "        text-align: right;\n",
       "    }\n",
       "</style>\n",
       "<table border=\"1\" class=\"dataframe\">\n",
       "  <thead>\n",
       "    <tr style=\"text-align: right;\">\n",
       "      <th></th>\n",
       "      <th>count</th>\n",
       "      <th>mean</th>\n",
       "      <th>std</th>\n",
       "      <th>min</th>\n",
       "      <th>25%</th>\n",
       "      <th>50%</th>\n",
       "      <th>75%</th>\n",
       "      <th>max</th>\n",
       "    </tr>\n",
       "    <tr>\n",
       "      <th>buy_sell</th>\n",
       "      <th></th>\n",
       "      <th></th>\n",
       "      <th></th>\n",
       "      <th></th>\n",
       "      <th></th>\n",
       "      <th></th>\n",
       "      <th></th>\n",
       "      <th></th>\n",
       "    </tr>\n",
       "  </thead>\n",
       "  <tbody>\n",
       "    <tr>\n",
       "      <th>Buy curve</th>\n",
       "      <td>682.0</td>\n",
       "      <td>127.335462</td>\n",
       "      <td>405.484101</td>\n",
       "      <td>-500.0</td>\n",
       "      <td>0.855265</td>\n",
       "      <td>37.45</td>\n",
       "      <td>87.275</td>\n",
       "      <td>3000.0</td>\n",
       "    </tr>\n",
       "    <tr>\n",
       "      <th>Sell curve</th>\n",
       "      <td>876.0</td>\n",
       "      <td>445.778159</td>\n",
       "      <td>928.934890</td>\n",
       "      <td>-500.0</td>\n",
       "      <td>2.449744</td>\n",
       "      <td>35.65</td>\n",
       "      <td>238.250</td>\n",
       "      <td>3000.0</td>\n",
       "    </tr>\n",
       "  </tbody>\n",
       "</table>\n",
       "</div>"
      ],
      "text/plain": [
       "            count        mean         std    min       25%    50%      75%  \\\n",
       "buy_sell                                                                     \n",
       "Buy curve   682.0  127.335462  405.484101 -500.0  0.855265  37.45   87.275   \n",
       "Sell curve  876.0  445.778159  928.934890 -500.0  2.449744  35.65  238.250   \n",
       "\n",
       "               max  \n",
       "buy_sell            \n",
       "Buy curve   3000.0  \n",
       "Sell curve  3000.0  "
      ]
     },
     "execution_count": 20,
     "metadata": {},
     "output_type": "execute_result"
    }
   ],
   "source": [
    "date = date.replace(\"-\",\".\")\n",
    "\n",
    "df2, date, hour = cleaningData(date,9)\n",
    "df2.groupby('buy_sell').price.describe()"
   ]
  },
  {
   "cell_type": "code",
   "execution_count": 21,
   "metadata": {},
   "outputs": [
    {
     "data": {
      "text/html": [
       "<div>\n",
       "<style scoped>\n",
       "    .dataframe tbody tr th:only-of-type {\n",
       "        vertical-align: middle;\n",
       "    }\n",
       "\n",
       "    .dataframe tbody tr th {\n",
       "        vertical-align: top;\n",
       "    }\n",
       "\n",
       "    .dataframe thead th {\n",
       "        text-align: right;\n",
       "    }\n",
       "</style>\n",
       "<table border=\"1\" class=\"dataframe\">\n",
       "  <thead>\n",
       "    <tr style=\"text-align: right;\">\n",
       "      <th></th>\n",
       "      <th>count</th>\n",
       "      <th>mean</th>\n",
       "      <th>std</th>\n",
       "      <th>min</th>\n",
       "      <th>25%</th>\n",
       "      <th>50%</th>\n",
       "      <th>75%</th>\n",
       "      <th>max</th>\n",
       "    </tr>\n",
       "    <tr>\n",
       "      <th>buy_sell</th>\n",
       "      <th></th>\n",
       "      <th></th>\n",
       "      <th></th>\n",
       "      <th></th>\n",
       "      <th></th>\n",
       "      <th></th>\n",
       "      <th></th>\n",
       "      <th></th>\n",
       "    </tr>\n",
       "  </thead>\n",
       "  <tbody>\n",
       "    <tr>\n",
       "      <th>Buy curve</th>\n",
       "      <td>682.0</td>\n",
       "      <td>34990.583410</td>\n",
       "      <td>1481.088008</td>\n",
       "      <td>33178.200000</td>\n",
       "      <td>33916.418547</td>\n",
       "      <td>34678.083099</td>\n",
       "      <td>35800.900139</td>\n",
       "      <td>39875.525070</td>\n",
       "    </tr>\n",
       "    <tr>\n",
       "      <th>Sell curve</th>\n",
       "      <td>876.0</td>\n",
       "      <td>35643.268458</td>\n",
       "      <td>10899.124522</td>\n",
       "      <td>16248.440339</td>\n",
       "      <td>25967.713409</td>\n",
       "      <td>41425.442256</td>\n",
       "      <td>43533.696008</td>\n",
       "      <td>47698.049601</td>\n",
       "    </tr>\n",
       "  </tbody>\n",
       "</table>\n",
       "</div>"
      ],
      "text/plain": [
       "            count          mean           std           min           25%  \\\n",
       "buy_sell                                                                    \n",
       "Buy curve   682.0  34990.583410   1481.088008  33178.200000  33916.418547   \n",
       "Sell curve  876.0  35643.268458  10899.124522  16248.440339  25967.713409   \n",
       "\n",
       "                     50%           75%           max  \n",
       "buy_sell                                              \n",
       "Buy curve   34678.083099  35800.900139  39875.525070  \n",
       "Sell curve  41425.442256  43533.696008  47698.049601  "
      ]
     },
     "execution_count": 21,
     "metadata": {},
     "output_type": "execute_result"
    }
   ],
   "source": [
    "df2.groupby('buy_sell').volume_adjusted.describe()"
   ]
  },
  {
   "cell_type": "markdown",
   "metadata": {},
   "source": [
    "## Creating figure"
   ]
  },
  {
   "cell_type": "code",
   "execution_count": 7,
   "metadata": {},
   "outputs": [],
   "source": [
    "from matplotlib import pyplot as plt\n",
    "%matplotlib inline"
   ]
  },
  {
   "cell_type": "code",
   "execution_count": 22,
   "metadata": {},
   "outputs": [
    {
     "data": {
      "image/png": "[encoded data removed]",
      "text/plain": [
       "<Figure size 432x288 with 1 Axes>"
      ]
     },
     "metadata": {
      "needs_background": "light"
     },
     "output_type": "display_data"
    }
   ],
   "source": [
    "y_demand = df2['price'][df2['buy_sell']==\"Buy curve\"]\n",
    "y_supply = df2['price'][df2['buy_sell']==\"Sell curve\"]\n",
    "\n",
    "x_demand = df2['volume_adjusted'][df2['buy_sell']==\"Buy curve\"]\n",
    "x_supply = df2['volume_adjusted'][df2['buy_sell']==\"Sell curve\"]\n",
    "\n",
    "demand = plt.plot(x_demand, y_demand, 'k--', label= \"Demand\", linewidth=0.7)\n",
    "supply = plt.plot(x_supply, y_supply, 'k-', label= \"Supply\", linewidth=0.7)\n",
    "plt.ylabel('Price')\n",
    "plt.xlabel('Volume')\n",
    "plt.ylim((0, 100))\n",
    "plt.xlim((16000,45000))\n",
    "title = str(date) + \", \" + str(hour) + \":00+\"\n",
    "plt.title(title)\n",
    "plt.legend()\n",
    "\n",
    "date = date.replace(\".\",\"_\")\n",
    "outfile = \"/Users/marcosdemetry/Dropbox/IFN/Programming/Python_projects/elspot_supply_demand/Figure_\" + str(date) + \"_hr\" + str(hour) + \".pdf\"\n",
    "plt.savefig(outfile, bbox_inches='tight')"
   ]
  },
  {
   "cell_type": "markdown",
   "metadata": {},
   "source": [
    "## Exporting data"
   ]
  },
  {
   "cell_type": "code",
   "execution_count": 17,
   "metadata": {},
   "outputs": [],
   "source": [
    "outfile = \"/Users/marcosdemetry/Dropbox/IFN/Programming/Python_projects/elspot_supply_demand/Data_\" + str(date) + \"_hr\" + str(hour) + \".xlsx\"\n",
    "df2.to_excel(outfile, index=False)"
   ]
  }
 ],
 "metadata": {
  "kernelspec": {
   "display_name": "Python 3",
   "language": "python",
   "name": "python3"
  },
  "language_info": {
   "codemirror_mode": {
    "name": "ipython",
    "version": 3
   },
   "file_extension": ".py",
   "mimetype": "text/x-python",
   "name": "python",
   "nbconvert_exporter": "python",
   "pygments_lexer": "ipython3",
   "version": "3.7.6"
  }
 },
 "nbformat": 4,
 "nbformat_minor": 4
}
