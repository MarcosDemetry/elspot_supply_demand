{
 "cells": [
  {
   "cell_type": "markdown",
   "metadata": {},
   "source": [
    "# Supply and Demand for Elspot"
   ]
  },
  {
   "cell_type": "markdown",
   "metadata": {},
   "source": [
    "NordPool has provided the following information on the Elspot System Price bid curves. The document below describes how to adjust the buy and sell volumes using accepted blocks buy/sell and net flows."
   ]
  },
  {
   "cell_type": "code",
   "execution_count": 1,
   "metadata": {
    "scrolled": true
   },
   "outputs": [
    {
     "data": {
      "text/html": [
       "\n",
       "        <iframe\n",
       "            width=\"900\"\n",
       "            height=\"300\"\n",
       "            src=\"https://www.nordpoolgroup.com/globalassets/information-in-market-cross-point-data-reports.pdf \"\n",
       "            frameborder=\"0\"\n",
       "            allowfullscreen\n",
       "        ></iframe>\n",
       "        "
      ],
      "text/plain": [
       "<IPython.lib.display.IFrame at 0x103995090>"
      ]
     },
     "execution_count": 1,
     "metadata": {},
     "output_type": "execute_result"
    }
   ],
   "source": [
    "from IPython.display import IFrame\n",
    "fileURL = \"https://www.nordpoolgroup.com/globalassets/information-in-market-cross-point-data-reports.pdf \"\n",
    "IFrame(fileURL, width=900, height=300)"
   ]
  },
  {
   "cell_type": "markdown",
   "metadata": {},
   "source": [
    "## Cleaning data"
   ]
  },
  {
   "cell_type": "code",
   "execution_count": 2,
   "metadata": {},
   "outputs": [],
   "source": [
    "import os\n",
    "cwd = os.getcwd()"
   ]
  },
  {
   "cell_type": "code",
   "execution_count": 3,
   "metadata": {},
   "outputs": [],
   "source": [
    "import numpy as np\n",
    "import pandas as pd"
   ]
  },
  {
   "cell_type": "code",
   "execution_count": 77,
   "metadata": {},
   "outputs": [],
   "source": [
    "def cleaningData(date, hour):\n",
    "    \n",
    "    ## Extracting columns corresponding to hour and date\n",
    "    hour = hour\n",
    "    date = str(date)\n",
    "    column1 = \"Bid curve chart data (Reference time).\" + str(hour)\n",
    "\n",
    "    if hour < 10:\n",
    "        hour = \"0\" + str(hour)\n",
    "    else:\n",
    "        hour = str(hour)\n",
    "    column2 = date + \" \" + hour + \":00:00 +\" \n",
    "    #column2 = date + \" \" + hour + \":00:00\" \n",
    "    \n",
    "    df2 = pd.DataFrame({'name': df[column1],\n",
    "                 'value' : df[column2]})\n",
    "    \n",
    "    # Extracting net flows\n",
    "    df2['net_flows'] = df2['value'].where(df2['name']==\"Bid curve chart data (Volume for net flows)\")\n",
    "    # Forward fill\n",
    "    df2['net_flows'] = df2['net_flows'].ffill(axis = 0)\n",
    "    \n",
    "    # Extracting volume for accepted blocks buy\n",
    "    df2['accepted_blocks_buy'] = df2['value'].where(df2['name']==\"Bid curve chart data (Volume for accepted blocks buy)\")\n",
    "    # Forward fill\n",
    "    df2['accepted_blocks_buy'] = df2['accepted_blocks_buy'].ffill(axis = 0)\n",
    "    \n",
    "    # Extracting volume for accepted blocks sell\n",
    "    df2['accepted_blocks_sell'] = df2['value'].where(df2['name']==\"Bid curve chart data (Volume for accepted blocks sell)\")\n",
    "    # Forward fill\n",
    "    df2['accepted_blocks_sell'] = df2['accepted_blocks_sell'].ffill(axis = 0)\n",
    "    \n",
    "    # Identify the rows that have buy or sell \"curve\"\n",
    "    df2['buy_sell'] = df2['name'].where(df2['name'].str.contains('curve'))\n",
    "    # Forward fill\n",
    "    df2['buy_sell'] = df2['buy_sell'].ffill(axis = 0)\n",
    "    \n",
    "    # Extract prices and volumes\n",
    "    df2['price'] = df2['value'][df2['name']=='Price value']\n",
    "    df2['volume'] = df2['value'][df2['name']=='Volume value']\n",
    "    \n",
    "    # Forward fill prices\n",
    "    df2['price'] = df2['price'].ffill(axis = 0)\n",
    "    # Backward fill volumes\n",
    "    df2['volume'] = df2['volume'].bfill(axis=0)\n",
    "    \n",
    "    # Dropping duplicates\n",
    "    df2.drop_duplicates(subset=['price','volume'], keep = 'first', inplace = True)\n",
    "    \n",
    "    # Dropping \"Buy curve\" & \"Sell curve\" rows\n",
    "    df2 = df2.drop(df2[(df2['name'] == \"Buy curve\") | (df2['name'] == \"Sell curve\")].index)\n",
    "    \n",
    "    # Adjusting Buy and Sell volumes\n",
    "    df2['volume_adjusted'] = df2['volume']\n",
    "    net_flows = df2['net_flows'][13]\n",
    "    \n",
    "    if net_flows >= 0:  \n",
    "        df2['volume_adjusted'] = np.where(df2['buy_sell']==\"Buy curve\",df2['volume']+df2['accepted_blocks_buy'],df2['volume_adjusted'])\n",
    "        df2['volume_adjusted'] = np.where(df2['buy_sell']==\"Sell curve\",df2['volume']+df2['accepted_blocks_sell']+ abs(df2['net_flows']),df2['volume_adjusted'])\n",
    "    if net_flows < 0:\n",
    "        df2['volume_adjusted'] = np.where(df2['buy_sell']==\"Buy curve\",df2['volume']+df2['accepted_blocks_buy']+ abs(df2['net_flows']),df2['volume_adjusted'])\n",
    "        df2['volume_adjusted'] = np.where(df2['buy_sell']==\"Sell curve\",df2['volume']+df2['accepted_blocks_sell'],df2['volume_adjusted'])\n",
    "\n",
    "    # Keeping relevant data \n",
    "    df2 = df2[['buy_sell','price','volume', 'volume_adjusted', 'accepted_blocks_buy', 'accepted_blocks_sell', 'net_flows']]\n",
    "    df2 = df2.dropna()\n",
    "    \n",
    "    # Basic stats\n",
    "    #print(df2.groupby('buy_sell').describe())\n",
    "\n",
    "    return df2, date, hour"
   ]
  },
  {
   "cell_type": "code",
   "execution_count": 78,
   "metadata": {},
   "outputs": [],
   "source": [
    "date = \"05-05-2020\"\n",
    "file = cwd + \"/mcp_data_report_\" + str(date) + \"-00_00_00.xls\"\n",
    "df = pd.read_excel(file)"
   ]
  },
  {
   "cell_type": "code",
   "execution_count": 79,
   "metadata": {},
   "outputs": [
    {
     "data": {
      "text/html": [
       "<div>\n",
       "<style scoped>\n",
       "    .dataframe tbody tr th:only-of-type {\n",
       "        vertical-align: middle;\n",
       "    }\n",
       "\n",
       "    .dataframe tbody tr th {\n",
       "        vertical-align: top;\n",
       "    }\n",
       "\n",
       "    .dataframe thead th {\n",
       "        text-align: right;\n",
       "    }\n",
       "</style>\n",
       "<table border=\"1\" class=\"dataframe\">\n",
       "  <thead>\n",
       "    <tr style=\"text-align: right;\">\n",
       "      <th></th>\n",
       "      <th>count</th>\n",
       "      <th>mean</th>\n",
       "      <th>std</th>\n",
       "      <th>min</th>\n",
       "      <th>25%</th>\n",
       "      <th>50%</th>\n",
       "      <th>75%</th>\n",
       "      <th>max</th>\n",
       "    </tr>\n",
       "    <tr>\n",
       "      <th>buy_sell</th>\n",
       "      <th></th>\n",
       "      <th></th>\n",
       "      <th></th>\n",
       "      <th></th>\n",
       "      <th></th>\n",
       "      <th></th>\n",
       "      <th></th>\n",
       "      <th></th>\n",
       "    </tr>\n",
       "  </thead>\n",
       "  <tbody>\n",
       "    <tr>\n",
       "      <th>Buy curve</th>\n",
       "      <td>844.0</td>\n",
       "      <td>157.492425</td>\n",
       "      <td>442.313017</td>\n",
       "      <td>-500.0</td>\n",
       "      <td>0.797114</td>\n",
       "      <td>26.25</td>\n",
       "      <td>122.670766</td>\n",
       "      <td>3000.0</td>\n",
       "    </tr>\n",
       "    <tr>\n",
       "      <th>Sell curve</th>\n",
       "      <td>1131.0</td>\n",
       "      <td>359.280540</td>\n",
       "      <td>825.798727</td>\n",
       "      <td>-500.0</td>\n",
       "      <td>4.859174</td>\n",
       "      <td>31.00</td>\n",
       "      <td>130.050000</td>\n",
       "      <td>3000.0</td>\n",
       "    </tr>\n",
       "  </tbody>\n",
       "</table>\n",
       "</div>"
      ],
      "text/plain": [
       "             count        mean         std    min       25%    50%  \\\n",
       "buy_sell                                                             \n",
       "Buy curve    844.0  157.492425  442.313017 -500.0  0.797114  26.25   \n",
       "Sell curve  1131.0  359.280540  825.798727 -500.0  4.859174  31.00   \n",
       "\n",
       "                   75%     max  \n",
       "buy_sell                        \n",
       "Buy curve   122.670766  3000.0  \n",
       "Sell curve  130.050000  3000.0  "
      ]
     },
     "execution_count": 79,
     "metadata": {},
     "output_type": "execute_result"
    }
   ],
   "source": [
    "date = date.replace(\"-\",\".\")\n",
    "\n",
    "df2, date, hour = cleaningData(date,14)\n",
    "df2.groupby('buy_sell').price.describe()"
   ]
  },
  {
   "cell_type": "code",
   "execution_count": 80,
   "metadata": {},
   "outputs": [
    {
     "data": {
      "text/html": [
       "<div>\n",
       "<style scoped>\n",
       "    .dataframe tbody tr th:only-of-type {\n",
       "        vertical-align: middle;\n",
       "    }\n",
       "\n",
       "    .dataframe tbody tr th {\n",
       "        vertical-align: top;\n",
       "    }\n",
       "\n",
       "    .dataframe thead th {\n",
       "        text-align: right;\n",
       "    }\n",
       "</style>\n",
       "<table border=\"1\" class=\"dataframe\">\n",
       "  <thead>\n",
       "    <tr style=\"text-align: right;\">\n",
       "      <th></th>\n",
       "      <th>count</th>\n",
       "      <th>mean</th>\n",
       "      <th>std</th>\n",
       "      <th>min</th>\n",
       "      <th>25%</th>\n",
       "      <th>50%</th>\n",
       "      <th>75%</th>\n",
       "      <th>max</th>\n",
       "    </tr>\n",
       "    <tr>\n",
       "      <th>buy_sell</th>\n",
       "      <th></th>\n",
       "      <th></th>\n",
       "      <th></th>\n",
       "      <th></th>\n",
       "      <th></th>\n",
       "      <th></th>\n",
       "      <th></th>\n",
       "      <th></th>\n",
       "    </tr>\n",
       "  </thead>\n",
       "  <tbody>\n",
       "    <tr>\n",
       "      <th>Buy curve</th>\n",
       "      <td>844.0</td>\n",
       "      <td>40721.130442</td>\n",
       "      <td>1626.944235</td>\n",
       "      <td>38834.300000</td>\n",
       "      <td>39852.700000</td>\n",
       "      <td>40179.600000</td>\n",
       "      <td>40871.956309</td>\n",
       "      <td>46933.555991</td>\n",
       "    </tr>\n",
       "    <tr>\n",
       "      <th>Sell curve</th>\n",
       "      <td>1131.0</td>\n",
       "      <td>40194.584645</td>\n",
       "      <td>11511.454868</td>\n",
       "      <td>17155.139361</td>\n",
       "      <td>32560.674705</td>\n",
       "      <td>45661.361277</td>\n",
       "      <td>47621.989533</td>\n",
       "      <td>52290.304482</td>\n",
       "    </tr>\n",
       "  </tbody>\n",
       "</table>\n",
       "</div>"
      ],
      "text/plain": [
       "             count          mean           std           min           25%  \\\n",
       "buy_sell                                                                     \n",
       "Buy curve    844.0  40721.130442   1626.944235  38834.300000  39852.700000   \n",
       "Sell curve  1131.0  40194.584645  11511.454868  17155.139361  32560.674705   \n",
       "\n",
       "                     50%           75%           max  \n",
       "buy_sell                                              \n",
       "Buy curve   40179.600000  40871.956309  46933.555991  \n",
       "Sell curve  45661.361277  47621.989533  52290.304482  "
      ]
     },
     "execution_count": 80,
     "metadata": {},
     "output_type": "execute_result"
    }
   ],
   "source": [
    "df2.groupby('buy_sell').volume_adjusted.describe()"
   ]
  },
  {
   "cell_type": "code",
   "execution_count": 81,
   "metadata": {},
   "outputs": [
    {
     "data": {
      "text/html": [
       "<div>\n",
       "<style scoped>\n",
       "    .dataframe tbody tr th:only-of-type {\n",
       "        vertical-align: middle;\n",
       "    }\n",
       "\n",
       "    .dataframe tbody tr th {\n",
       "        vertical-align: top;\n",
       "    }\n",
       "\n",
       "    .dataframe thead th {\n",
       "        text-align: right;\n",
       "    }\n",
       "</style>\n",
       "<table border=\"1\" class=\"dataframe\">\n",
       "  <thead>\n",
       "    <tr style=\"text-align: right;\">\n",
       "      <th></th>\n",
       "      <th>accepted_blocks_buy</th>\n",
       "      <th>accepted_blocks_sell</th>\n",
       "      <th>net_flows</th>\n",
       "    </tr>\n",
       "  </thead>\n",
       "  <tbody>\n",
       "    <tr>\n",
       "      <th>13</th>\n",
       "      <td>337.5</td>\n",
       "      <td>1620.6</td>\n",
       "      <td>-2553.0</td>\n",
       "    </tr>\n",
       "  </tbody>\n",
       "</table>\n",
       "</div>"
      ],
      "text/plain": [
       "    accepted_blocks_buy  accepted_blocks_sell  net_flows\n",
       "13                337.5                1620.6    -2553.0"
      ]
     },
     "execution_count": 81,
     "metadata": {},
     "output_type": "execute_result"
    }
   ],
   "source": [
    "df2[['accepted_blocks_buy','accepted_blocks_sell','net_flows']].head(1)"
   ]
  },
  {
   "cell_type": "code",
   "execution_count": 82,
   "metadata": {},
   "outputs": [
    {
     "data": {
      "text/html": [
       "<div>\n",
       "<style scoped>\n",
       "    .dataframe tbody tr th:only-of-type {\n",
       "        vertical-align: middle;\n",
       "    }\n",
       "\n",
       "    .dataframe tbody tr th {\n",
       "        vertical-align: top;\n",
       "    }\n",
       "\n",
       "    .dataframe thead th {\n",
       "        text-align: right;\n",
       "    }\n",
       "</style>\n",
       "<table border=\"1\" class=\"dataframe\">\n",
       "  <thead>\n",
       "    <tr style=\"text-align: right;\">\n",
       "      <th></th>\n",
       "      <th>price</th>\n",
       "      <th>volume</th>\n",
       "      <th>volume_adjusted</th>\n",
       "      <th>buy_sell</th>\n",
       "    </tr>\n",
       "  </thead>\n",
       "  <tbody>\n",
       "    <tr>\n",
       "      <th>13</th>\n",
       "      <td>-500.000000</td>\n",
       "      <td>44043.055991</td>\n",
       "      <td>46933.555991</td>\n",
       "      <td>Buy curve</td>\n",
       "    </tr>\n",
       "    <tr>\n",
       "      <th>15</th>\n",
       "      <td>-499.900000</td>\n",
       "      <td>43867.947461</td>\n",
       "      <td>46758.447461</td>\n",
       "      <td>Buy curve</td>\n",
       "    </tr>\n",
       "    <tr>\n",
       "      <th>17</th>\n",
       "      <td>-499.800000</td>\n",
       "      <td>43867.838931</td>\n",
       "      <td>46758.338931</td>\n",
       "      <td>Buy curve</td>\n",
       "    </tr>\n",
       "    <tr>\n",
       "      <th>19</th>\n",
       "      <td>-460.659665</td>\n",
       "      <td>43805.841875</td>\n",
       "      <td>46696.341875</td>\n",
       "      <td>Buy curve</td>\n",
       "    </tr>\n",
       "    <tr>\n",
       "      <th>21</th>\n",
       "      <td>-460.567533</td>\n",
       "      <td>43800.695941</td>\n",
       "      <td>46691.195941</td>\n",
       "      <td>Buy curve</td>\n",
       "    </tr>\n",
       "    <tr>\n",
       "      <th>...</th>\n",
       "      <td>...</td>\n",
       "      <td>...</td>\n",
       "      <td>...</td>\n",
       "      <td>...</td>\n",
       "    </tr>\n",
       "    <tr>\n",
       "      <th>3954</th>\n",
       "      <td>2999.600000</td>\n",
       "      <td>50369.150896</td>\n",
       "      <td>51989.750896</td>\n",
       "      <td>Sell curve</td>\n",
       "    </tr>\n",
       "    <tr>\n",
       "      <th>3956</th>\n",
       "      <td>2999.700000</td>\n",
       "      <td>50369.289293</td>\n",
       "      <td>51989.889293</td>\n",
       "      <td>Sell curve</td>\n",
       "    </tr>\n",
       "    <tr>\n",
       "      <th>3958</th>\n",
       "      <td>2999.800000</td>\n",
       "      <td>50369.427689</td>\n",
       "      <td>51990.027689</td>\n",
       "      <td>Sell curve</td>\n",
       "    </tr>\n",
       "    <tr>\n",
       "      <th>3960</th>\n",
       "      <td>2999.900000</td>\n",
       "      <td>50369.566086</td>\n",
       "      <td>51990.166086</td>\n",
       "      <td>Sell curve</td>\n",
       "    </tr>\n",
       "    <tr>\n",
       "      <th>3962</th>\n",
       "      <td>3000.000000</td>\n",
       "      <td>50669.704482</td>\n",
       "      <td>52290.304482</td>\n",
       "      <td>Sell curve</td>\n",
       "    </tr>\n",
       "  </tbody>\n",
       "</table>\n",
       "<p>1975 rows × 4 columns</p>\n",
       "</div>"
      ],
      "text/plain": [
       "            price        volume  volume_adjusted    buy_sell\n",
       "13    -500.000000  44043.055991     46933.555991   Buy curve\n",
       "15    -499.900000  43867.947461     46758.447461   Buy curve\n",
       "17    -499.800000  43867.838931     46758.338931   Buy curve\n",
       "19    -460.659665  43805.841875     46696.341875   Buy curve\n",
       "21    -460.567533  43800.695941     46691.195941   Buy curve\n",
       "...           ...           ...              ...         ...\n",
       "3954  2999.600000  50369.150896     51989.750896  Sell curve\n",
       "3956  2999.700000  50369.289293     51989.889293  Sell curve\n",
       "3958  2999.800000  50369.427689     51990.027689  Sell curve\n",
       "3960  2999.900000  50369.566086     51990.166086  Sell curve\n",
       "3962  3000.000000  50669.704482     52290.304482  Sell curve\n",
       "\n",
       "[1975 rows x 4 columns]"
      ]
     },
     "execution_count": 82,
     "metadata": {},
     "output_type": "execute_result"
    }
   ],
   "source": [
    "df2[['price','volume', 'volume_adjusted','buy_sell']]"
   ]
  },
  {
   "cell_type": "markdown",
   "metadata": {},
   "source": [
    "## Creating figure"
   ]
  },
  {
   "cell_type": "code",
   "execution_count": 83,
   "metadata": {},
   "outputs": [],
   "source": [
    "from matplotlib import pyplot as plt\n",
    "%matplotlib inline"
   ]
  },
  {
   "cell_type": "code",
   "execution_count": 84,
   "metadata": {},
   "outputs": [
    {
     "data": {
      "image/png": "[encoded data removed]",
      "text/plain": [
       "<Figure size 432x288 with 1 Axes>"
      ]
     },
     "metadata": {
      "needs_background": "light"
     },
     "output_type": "display_data"
    }
   ],
   "source": [
    "y_demand = df2['price'][df2['buy_sell']==\"Buy curve\"]\n",
    "y_supply = df2['price'][df2['buy_sell']==\"Sell curve\"]\n",
    "\n",
    "x_demand = df2['volume_adjusted'][df2['buy_sell']==\"Buy curve\"]\n",
    "x_supply = df2['volume_adjusted'][df2['buy_sell']==\"Sell curve\"]\n",
    "\n",
    "demand = plt.plot(x_demand, y_demand, 'k--', label= \"Demand\", linewidth=0.7)\n",
    "supply = plt.plot(x_supply, y_supply, 'k-', label= \"Supply\", linewidth=0.7)\n",
    "plt.ylabel('Price (€/MWh)')\n",
    "plt.xlabel('Volume (MW)')\n",
    "plt.ylim((0, 50))\n",
    "plt.xlim((30000,55000))\n",
    "#plt.axhline(y=0, color='r', linestyle='-')\n",
    "title = str(date) + \", \" + str(hour) + \":00+\"\n",
    "plt.title(title)\n",
    "plt.legend()\n",
    "\n",
    "date = date.replace(\".\",\"_\")\n",
    "outfile = cwd + \"/Figure_\" + str(date) + \"_hr\" + str(hour) + \".pdf\"\n",
    "plt.savefig(outfile, bbox_inches='tight')"
   ]
  },
  {
   "cell_type": "markdown",
   "metadata": {},
   "source": [
    "## Exporting data"
   ]
  },
  {
   "cell_type": "code",
   "execution_count": 22,
   "metadata": {},
   "outputs": [],
   "source": [
    "outfile = cwd + \"/Data_\" + str(date) + \"_hr\" + str(hour) + \".xlsx\"\n",
    "df2.to_excel(outfile, index=False)"
   ]
  }
 ],
 "metadata": {
  "kernelspec": {
   "display_name": "Python 3",
   "language": "python",
   "name": "python3"
  },
  "language_info": {
   "codemirror_mode": {
    "name": "ipython",
    "version": 3
   },
   "file_extension": ".py",
   "mimetype": "text/x-python",
   "name": "python",
   "nbconvert_exporter": "python",
   "pygments_lexer": "ipython3",
   "version": "3.7.6"
  }
 },
 "nbformat": 4,
 "nbformat_minor": 4
}
